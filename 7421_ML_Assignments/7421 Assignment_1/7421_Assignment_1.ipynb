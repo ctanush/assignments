{
 "cells": [
  {
   "cell_type": "markdown",
   "id": "32d5d47f",
   "metadata": {},
   "source": [
    "# Assignment - 1\n",
    "Predict the price of the Uber ride from a given pickup point to the agreed drop-off location. \n",
    "Perform following tasks: 1. Pre-process the dataset. 2. Identify outliers. 3. Check the correlation. \n",
    "4.Implement linear regression, logistic regression, lasso regression, ridge regression, polynomial regression,\n",
    "Bayesian linear regression, principal components regression. quartile regression,random forest regression models.  \n",
    "partial least square regression, elastic net regression, Poisson regression  Evaluate the models and compare their\n",
    "respective scores like R2, RMSE, etc"
   ]
  },
  {
   "cell_type": "code",
   "execution_count": 1,
   "id": "1e417cb2",
   "metadata": {},
   "outputs": [],
   "source": [
    "import pandas as pd \n",
    "import numpy as np \n",
    "import matplotlib.pyplot as plt\n",
    "import seaborn as sns\n",
    "from sklearn.linear_model import LinearRegression\n",
    "from sklearn.linear_model import Lasso\n",
    "from sklearn.linear_model import Ridge\n",
    "from sklearn.linear_model import LogisticRegression\n",
    "from sklearn.ensemble import RandomForestRegressor\n",
    "from sklearn.metrics import r2_score,mean_squared_error \n",
    "from sklearn.model_selection import train_test_split"
   ]
  },
  {
   "cell_type": "code",
   "execution_count": 2,
   "id": "a812674f",
   "metadata": {},
   "outputs": [],
   "source": [
    "df = pd.read_csv(\"uber.csv\")"
   ]
  },
  {
   "cell_type": "code",
   "execution_count": 3,
   "id": "06cf09b1",
   "metadata": {},
   "outputs": [
    {
     "name": "stdout",
     "output_type": "stream",
     "text": [
      "<class 'pandas.core.frame.DataFrame'>\n",
      "RangeIndex: 200000 entries, 0 to 199999\n",
      "Data columns (total 9 columns):\n",
      " #   Column             Non-Null Count   Dtype  \n",
      "---  ------             --------------   -----  \n",
      " 0   Unnamed: 0         200000 non-null  int64  \n",
      " 1   key                200000 non-null  object \n",
      " 2   fare_amount        200000 non-null  float64\n",
      " 3   pickup_datetime    200000 non-null  object \n",
      " 4   pickup_longitude   200000 non-null  float64\n",
      " 5   pickup_latitude    200000 non-null  float64\n",
      " 6   dropoff_longitude  199999 non-null  float64\n",
      " 7   dropoff_latitude   199999 non-null  float64\n",
      " 8   passenger_count    200000 non-null  int64  \n",
      "dtypes: float64(5), int64(2), object(2)\n",
      "memory usage: 13.7+ MB\n"
     ]
    }
   ],
   "source": [
    "df.info()"
   ]
  },
  {
   "cell_type": "code",
   "execution_count": 4,
   "id": "54b0d2b4",
   "metadata": {},
   "outputs": [],
   "source": [
    "df[\"pickup_datetime\"]=pd.to_datetime(df[\"pickup_datetime\"])"
   ]
  },
  {
   "cell_type": "code",
   "execution_count": 5,
   "id": "e126ad13",
   "metadata": {},
   "outputs": [
    {
     "data": {
      "text/plain": [
       "Unnamed: 0           0\n",
       "key                  0\n",
       "fare_amount          0\n",
       "pickup_datetime      0\n",
       "pickup_longitude     0\n",
       "pickup_latitude      0\n",
       "dropoff_longitude    1\n",
       "dropoff_latitude     1\n",
       "passenger_count      0\n",
       "dtype: int64"
      ]
     },
     "execution_count": 5,
     "metadata": {},
     "output_type": "execute_result"
    }
   ],
   "source": [
    "df.isnull().sum()"
   ]
  },
  {
   "cell_type": "code",
   "execution_count": 6,
   "id": "3eb8164c",
   "metadata": {},
   "outputs": [],
   "source": [
    "df.dropna(inplace=True)"
   ]
  },
  {
   "cell_type": "code",
   "execution_count": 7,
   "id": "5c030086",
   "metadata": {},
   "outputs": [
    {
     "data": {
      "text/html": [
       "<div>\n",
       "<style scoped>\n",
       "    .dataframe tbody tr th:only-of-type {\n",
       "        vertical-align: middle;\n",
       "    }\n",
       "\n",
       "    .dataframe tbody tr th {\n",
       "        vertical-align: top;\n",
       "    }\n",
       "\n",
       "    .dataframe thead th {\n",
       "        text-align: right;\n",
       "    }\n",
       "</style>\n",
       "<table border=\"1\" class=\"dataframe\">\n",
       "  <thead>\n",
       "    <tr style=\"text-align: right;\">\n",
       "      <th></th>\n",
       "      <th>Unnamed: 0</th>\n",
       "      <th>fare_amount</th>\n",
       "      <th>pickup_longitude</th>\n",
       "      <th>pickup_latitude</th>\n",
       "      <th>dropoff_longitude</th>\n",
       "      <th>dropoff_latitude</th>\n",
       "      <th>passenger_count</th>\n",
       "    </tr>\n",
       "  </thead>\n",
       "  <tbody>\n",
       "    <tr>\n",
       "      <th>Unnamed: 0</th>\n",
       "      <td>1.000000</td>\n",
       "      <td>0.000587</td>\n",
       "      <td>0.000230</td>\n",
       "      <td>-0.000341</td>\n",
       "      <td>0.000270</td>\n",
       "      <td>0.000271</td>\n",
       "      <td>0.002259</td>\n",
       "    </tr>\n",
       "    <tr>\n",
       "      <th>fare_amount</th>\n",
       "      <td>0.000587</td>\n",
       "      <td>1.000000</td>\n",
       "      <td>0.010458</td>\n",
       "      <td>-0.008482</td>\n",
       "      <td>0.008986</td>\n",
       "      <td>-0.011014</td>\n",
       "      <td>0.010158</td>\n",
       "    </tr>\n",
       "    <tr>\n",
       "      <th>pickup_longitude</th>\n",
       "      <td>0.000230</td>\n",
       "      <td>0.010458</td>\n",
       "      <td>1.000000</td>\n",
       "      <td>-0.816461</td>\n",
       "      <td>0.833026</td>\n",
       "      <td>-0.846324</td>\n",
       "      <td>-0.000415</td>\n",
       "    </tr>\n",
       "    <tr>\n",
       "      <th>pickup_latitude</th>\n",
       "      <td>-0.000341</td>\n",
       "      <td>-0.008482</td>\n",
       "      <td>-0.816461</td>\n",
       "      <td>1.000000</td>\n",
       "      <td>-0.774787</td>\n",
       "      <td>0.702367</td>\n",
       "      <td>-0.001559</td>\n",
       "    </tr>\n",
       "    <tr>\n",
       "      <th>dropoff_longitude</th>\n",
       "      <td>0.000270</td>\n",
       "      <td>0.008986</td>\n",
       "      <td>0.833026</td>\n",
       "      <td>-0.774787</td>\n",
       "      <td>1.000000</td>\n",
       "      <td>-0.917010</td>\n",
       "      <td>0.000033</td>\n",
       "    </tr>\n",
       "    <tr>\n",
       "      <th>dropoff_latitude</th>\n",
       "      <td>0.000271</td>\n",
       "      <td>-0.011014</td>\n",
       "      <td>-0.846324</td>\n",
       "      <td>0.702367</td>\n",
       "      <td>-0.917010</td>\n",
       "      <td>1.000000</td>\n",
       "      <td>-0.000659</td>\n",
       "    </tr>\n",
       "    <tr>\n",
       "      <th>passenger_count</th>\n",
       "      <td>0.002259</td>\n",
       "      <td>0.010158</td>\n",
       "      <td>-0.000415</td>\n",
       "      <td>-0.001559</td>\n",
       "      <td>0.000033</td>\n",
       "      <td>-0.000659</td>\n",
       "      <td>1.000000</td>\n",
       "    </tr>\n",
       "  </tbody>\n",
       "</table>\n",
       "</div>"
      ],
      "text/plain": [
       "                   Unnamed: 0  fare_amount  pickup_longitude  pickup_latitude  \\\n",
       "Unnamed: 0           1.000000     0.000587          0.000230        -0.000341   \n",
       "fare_amount          0.000587     1.000000          0.010458        -0.008482   \n",
       "pickup_longitude     0.000230     0.010458          1.000000        -0.816461   \n",
       "pickup_latitude     -0.000341    -0.008482         -0.816461         1.000000   \n",
       "dropoff_longitude    0.000270     0.008986          0.833026        -0.774787   \n",
       "dropoff_latitude     0.000271    -0.011014         -0.846324         0.702367   \n",
       "passenger_count      0.002259     0.010158         -0.000415        -0.001559   \n",
       "\n",
       "                   dropoff_longitude  dropoff_latitude  passenger_count  \n",
       "Unnamed: 0                  0.000270          0.000271         0.002259  \n",
       "fare_amount                 0.008986         -0.011014         0.010158  \n",
       "pickup_longitude            0.833026         -0.846324        -0.000415  \n",
       "pickup_latitude            -0.774787          0.702367        -0.001559  \n",
       "dropoff_longitude           1.000000         -0.917010         0.000033  \n",
       "dropoff_latitude           -0.917010          1.000000        -0.000659  \n",
       "passenger_count             0.000033         -0.000659         1.000000  "
      ]
     },
     "execution_count": 7,
     "metadata": {},
     "output_type": "execute_result"
    }
   ],
   "source": [
    "df.corr()"
   ]
  },
  {
   "cell_type": "code",
   "execution_count": 8,
   "id": "e2a65d58",
   "metadata": {},
   "outputs": [
    {
     "data": {
      "text/html": [
       "<div>\n",
       "<style scoped>\n",
       "    .dataframe tbody tr th:only-of-type {\n",
       "        vertical-align: middle;\n",
       "    }\n",
       "\n",
       "    .dataframe tbody tr th {\n",
       "        vertical-align: top;\n",
       "    }\n",
       "\n",
       "    .dataframe thead th {\n",
       "        text-align: right;\n",
       "    }\n",
       "</style>\n",
       "<table border=\"1\" class=\"dataframe\">\n",
       "  <thead>\n",
       "    <tr style=\"text-align: right;\">\n",
       "      <th></th>\n",
       "      <th>Unnamed: 0</th>\n",
       "      <th>key</th>\n",
       "      <th>fare_amount</th>\n",
       "      <th>pickup_datetime</th>\n",
       "      <th>pickup_longitude</th>\n",
       "      <th>pickup_latitude</th>\n",
       "      <th>dropoff_longitude</th>\n",
       "      <th>dropoff_latitude</th>\n",
       "      <th>passenger_count</th>\n",
       "    </tr>\n",
       "  </thead>\n",
       "  <tbody>\n",
       "    <tr>\n",
       "      <th>0</th>\n",
       "      <td>24238194</td>\n",
       "      <td>2015-05-07 19:52:06.0000003</td>\n",
       "      <td>7.5</td>\n",
       "      <td>2015-05-07 19:52:06+00:00</td>\n",
       "      <td>-73.999817</td>\n",
       "      <td>40.738354</td>\n",
       "      <td>-73.999512</td>\n",
       "      <td>40.723217</td>\n",
       "      <td>1</td>\n",
       "    </tr>\n",
       "    <tr>\n",
       "      <th>1</th>\n",
       "      <td>27835199</td>\n",
       "      <td>2009-07-17 20:04:56.0000002</td>\n",
       "      <td>7.7</td>\n",
       "      <td>2009-07-17 20:04:56+00:00</td>\n",
       "      <td>-73.994355</td>\n",
       "      <td>40.728225</td>\n",
       "      <td>-73.994710</td>\n",
       "      <td>40.750325</td>\n",
       "      <td>1</td>\n",
       "    </tr>\n",
       "    <tr>\n",
       "      <th>2</th>\n",
       "      <td>44984355</td>\n",
       "      <td>2009-08-24 21:45:00.00000061</td>\n",
       "      <td>12.9</td>\n",
       "      <td>2009-08-24 21:45:00+00:00</td>\n",
       "      <td>-74.005043</td>\n",
       "      <td>40.740770</td>\n",
       "      <td>-73.962565</td>\n",
       "      <td>40.772647</td>\n",
       "      <td>1</td>\n",
       "    </tr>\n",
       "    <tr>\n",
       "      <th>3</th>\n",
       "      <td>25894730</td>\n",
       "      <td>2009-06-26 08:22:21.0000001</td>\n",
       "      <td>5.3</td>\n",
       "      <td>2009-06-26 08:22:21+00:00</td>\n",
       "      <td>-73.976124</td>\n",
       "      <td>40.790844</td>\n",
       "      <td>-73.965316</td>\n",
       "      <td>40.803349</td>\n",
       "      <td>3</td>\n",
       "    </tr>\n",
       "    <tr>\n",
       "      <th>4</th>\n",
       "      <td>17610152</td>\n",
       "      <td>2014-08-28 17:47:00.000000188</td>\n",
       "      <td>16.0</td>\n",
       "      <td>2014-08-28 17:47:00+00:00</td>\n",
       "      <td>-73.925023</td>\n",
       "      <td>40.744085</td>\n",
       "      <td>-73.973082</td>\n",
       "      <td>40.761247</td>\n",
       "      <td>5</td>\n",
       "    </tr>\n",
       "  </tbody>\n",
       "</table>\n",
       "</div>"
      ],
      "text/plain": [
       "   Unnamed: 0                            key  fare_amount  \\\n",
       "0    24238194    2015-05-07 19:52:06.0000003          7.5   \n",
       "1    27835199    2009-07-17 20:04:56.0000002          7.7   \n",
       "2    44984355   2009-08-24 21:45:00.00000061         12.9   \n",
       "3    25894730    2009-06-26 08:22:21.0000001          5.3   \n",
       "4    17610152  2014-08-28 17:47:00.000000188         16.0   \n",
       "\n",
       "            pickup_datetime  pickup_longitude  pickup_latitude  \\\n",
       "0 2015-05-07 19:52:06+00:00        -73.999817        40.738354   \n",
       "1 2009-07-17 20:04:56+00:00        -73.994355        40.728225   \n",
       "2 2009-08-24 21:45:00+00:00        -74.005043        40.740770   \n",
       "3 2009-06-26 08:22:21+00:00        -73.976124        40.790844   \n",
       "4 2014-08-28 17:47:00+00:00        -73.925023        40.744085   \n",
       "\n",
       "   dropoff_longitude  dropoff_latitude  passenger_count  \n",
       "0         -73.999512         40.723217                1  \n",
       "1         -73.994710         40.750325                1  \n",
       "2         -73.962565         40.772647                1  \n",
       "3         -73.965316         40.803349                3  \n",
       "4         -73.973082         40.761247                5  "
      ]
     },
     "execution_count": 8,
     "metadata": {},
     "output_type": "execute_result"
    }
   ],
   "source": [
    "df.head()"
   ]
  },
  {
   "cell_type": "code",
   "execution_count": 9,
   "id": "09e22b9c",
   "metadata": {},
   "outputs": [],
   "source": [
    "df.drop(columns=['Unnamed: 0','key','pickup_datetime'],inplace=True)"
   ]
  },
  {
   "cell_type": "code",
   "execution_count": 10,
   "id": "9a30cf67",
   "metadata": {},
   "outputs": [
    {
     "data": {
      "text/plain": [
       "[]"
      ]
     },
     "execution_count": 10,
     "metadata": {},
     "output_type": "execute_result"
    },
    {
     "data": {
      "image/png": "[encoded data removed]",
      "text/plain": [
       "<Figure size 640x480 with 1 Axes>"
      ]
     },
     "metadata": {},
     "output_type": "display_data"
    }
   ],
   "source": [
    "sns.boxplot(x=df[\"fare_amount\"])\n",
    "plt.title(\"Boxplot\")\n",
    "plt.plot()"
   ]
  },
  {
   "cell_type": "code",
   "execution_count": 11,
   "id": "ca693a5a",
   "metadata": {},
   "outputs": [],
   "source": [
    "low=df[\"fare_amount\"].quantile(0.05)\n",
    "high=df[\"fare_amount\"].quantile(0.94)\n",
    "df=df[(df[\"fare_amount\"]>low)&(df[\"fare_amount\"]<high)]"
   ]
  },
  {
   "cell_type": "code",
   "execution_count": 12,
   "id": "d48f6b05",
   "metadata": {},
   "outputs": [
    {
     "data": {
      "text/plain": [
       "[]"
      ]
     },
     "execution_count": 12,
     "metadata": {},
     "output_type": "execute_result"
    },
    {
     "data": {
      "image/png": "[encoded data removed]",
      "text/plain": [
       "<Figure size 640x480 with 1 Axes>"
      ]
     },
     "metadata": {},
     "output_type": "display_data"
    }
   ],
   "source": [
    "sns.boxplot(x=df[\"fare_amount\"])\n",
    "plt.title(\"Boxplot\")\n",
    "plt.plot()"
   ]
  },
  {
   "cell_type": "code",
   "execution_count": 13,
   "id": "199a8dcb",
   "metadata": {},
   "outputs": [
    {
     "name": "stdout",
     "output_type": "stream",
     "text": [
      "<class 'pandas.core.frame.DataFrame'>\n",
      "Int64Index: 174490 entries, 0 to 199999\n",
      "Data columns (total 6 columns):\n",
      " #   Column             Non-Null Count   Dtype  \n",
      "---  ------             --------------   -----  \n",
      " 0   fare_amount        174490 non-null  float64\n",
      " 1   pickup_longitude   174490 non-null  float64\n",
      " 2   pickup_latitude    174490 non-null  float64\n",
      " 3   dropoff_longitude  174490 non-null  float64\n",
      " 4   dropoff_latitude   174490 non-null  float64\n",
      " 5   passenger_count    174490 non-null  int64  \n",
      "dtypes: float64(5), int64(1)\n",
      "memory usage: 9.3 MB\n"
     ]
    }
   ],
   "source": [
    "df.info()"
   ]
  },
  {
   "cell_type": "code",
   "execution_count": 14,
   "id": "b2f66329",
   "metadata": {},
   "outputs": [],
   "source": [
    "y = df['fare_amount']\n",
    "X = df.drop(columns=['fare_amount'])"
   ]
  },
  {
   "cell_type": "code",
   "execution_count": 15,
   "id": "7b085a24",
   "metadata": {},
   "outputs": [],
   "source": [
    "X_train,X_test,y_train,y_test = train_test_split(X,y,test_size=0.2,random_state=2)"
   ]
  },
  {
   "cell_type": "code",
   "execution_count": 16,
   "id": "2a8f4910",
   "metadata": {},
   "outputs": [
    {
     "name": "stdout",
     "output_type": "stream",
     "text": [
      "The RMSE for the given model is:-  4.742351760679009\n",
      "The r2 error for the given model is:-  0.00015893093927277224\n"
     ]
    }
   ],
   "source": [
    "lin_mod = LinearRegression()\n",
    "lin_mod.fit(X_train,y_train)\n",
    "y_pred = lin_mod.predict(X_test)\n",
    "error = np.sqrt(mean_squared_error(y_test,y_pred))\n",
    "r2_error = r2_score(y_test,y_pred)\n",
    "print('The RMSE for the given model is:- ',error)\n",
    "print('The r2 error for the given model is:- ',r2_error)"
   ]
  },
  {
   "cell_type": "code",
   "execution_count": 17,
   "id": "bae66894",
   "metadata": {},
   "outputs": [
    {
     "name": "stdout",
     "output_type": "stream",
     "text": [
      "The RMSE for the given model is:-  4.742748532283052\n",
      "The r2 error for the given model is:-  -8.380622671610993e-06\n"
     ]
    }
   ],
   "source": [
    "l_mod = Lasso()\n",
    "l_mod.fit(X_train,y_train)\n",
    "y_pred = l_mod.predict(X_test)\n",
    "error = np.sqrt(mean_squared_error(y_test,y_pred))\n",
    "r2_error = r2_score(y_test,y_pred)\n",
    "print('The RMSE for the given model is:- ',error)\n",
    "print('The r2 error for the given model is:- ',r2_error)"
   ]
  },
  {
   "cell_type": "code",
   "execution_count": 18,
   "id": "b572a921",
   "metadata": {},
   "outputs": [
    {
     "name": "stdout",
     "output_type": "stream",
     "text": [
      "The RMSE for the given model is:-  4.7423517610421895\n",
      "The r2 error for the given model is:-  0.00015893078613238298\n"
     ]
    }
   ],
   "source": [
    "r_mod = Ridge()\n",
    "r_mod.fit(X_train,y_train)\n",
    "y_pred = r_mod.predict(X_test)\n",
    "error = np.sqrt(mean_squared_error(y_test,y_pred))\n",
    "r2_error = r2_score(y_test,y_pred)\n",
    "print('The RMSE for the given model is:- ',error)\n",
    "print('The r2 error for the given model is:- ',r2_error)"
   ]
  },
  {
   "cell_type": "code",
   "execution_count": 19,
   "id": "f515d988",
   "metadata": {},
   "outputs": [
    {
     "name": "stdout",
     "output_type": "stream",
     "text": [
      "The RMSE for the given model is:-  2.530154447753573\n",
      "The r2 error for the given model is:-  0.7153982880740757\n"
     ]
    }
   ],
   "source": [
    "for_mod = RandomForestRegressor(n_estimators=100,random_state=100)\n",
    "for_mod.fit(X_train,y_train)\n",
    "y_pred = for_mod.predict(X_test)\n",
    "error = np.sqrt(mean_squared_error(y_test,y_pred))\n",
    "r2_error = r2_score(y_test,y_pred)\n",
    "print('The RMSE for the given model is:- ',error)\n",
    "print('The r2 error for the given model is:- ',r2_error)"
   ]
  },
  {
   "cell_type": "code",
   "execution_count": 20,
   "id": "a281722a",
   "metadata": {},
   "outputs": [],
   "source": [
    "# X_train_poly.shape"
   ]
  },
  {
   "cell_type": "code",
   "execution_count": 21,
   "id": "2bcb049f",
   "metadata": {},
   "outputs": [
    {
     "name": "stdout",
     "output_type": "stream",
     "text": [
      "The RMSE for the given model is:-  7.055850132582224\n",
      "The r2 error for the given model is:-  -1.21330945099391\n"
     ]
    }
   ],
   "source": [
    "from sklearn.preprocessing import PolynomialFeatures\n",
    " \n",
    "poly = PolynomialFeatures(degree=2)\n",
    "X_train_poly = poly.fit_transform(X_train)\n",
    "X_test_poly = poly.transform(X_test)\n",
    "\n",
    "lin2 = LinearRegression()\n",
    "lin2.fit(X_train_poly, y_train)\n",
    "y_pred = lin2.predict(X_test_poly)\n",
    "error = np.sqrt(mean_squared_error(y_test,y_pred))\n",
    "r2_error = r2_score(y_test,y_pred)\n",
    "print('The RMSE for the given model is:- ',error)\n",
    "print('The r2 error for the given model is:- ',r2_error)"
   ]
  },
  {
   "cell_type": "code",
   "execution_count": 22,
   "id": "7cb84581",
   "metadata": {},
   "outputs": [
    {
     "name": "stdout",
     "output_type": "stream",
     "text": [
      "The RMSE for the given model is:-  4.742707156147866\n",
      "The r2 error for the given model is:-  9.067614853863759e-06\n"
     ]
    }
   ],
   "source": [
    "from sklearn.decomposition import PCA\n",
    "pca = PCA(n_components=2)\n",
    "X_train_pca = pca.fit_transform(X_train)\n",
    "X_test_pca = pca.transform(X_test)\n",
    "lin3 = LinearRegression()\n",
    "lin3.fit(X_train_pca, y_train)\n",
    "y_pred = lin3.predict(X_test_pca)\n",
    "error = np.sqrt(mean_squared_error(y_test,y_pred))\n",
    "r2_error = r2_score(y_test,y_pred)\n",
    "print('The RMSE for the given model is:- ',error)\n",
    "print('The r2 error for the given model is:- ',r2_error)"
   ]
  },
  {
   "cell_type": "code",
   "execution_count": 23,
   "id": "bb5984b5",
   "metadata": {},
   "outputs": [
    {
     "name": "stdout",
     "output_type": "stream",
     "text": [
      "The RMSE for the given model is:-  4.742748532283052\n",
      "The r2 error for the given model is:-  -8.380622671610993e-06\n"
     ]
    }
   ],
   "source": [
    "from sklearn.linear_model import ElasticNet\n",
    "e_mod = ElasticNet()\n",
    "e_mod.fit(X_train,y_train)\n",
    "y_pred = e_mod.predict(X_test)\n",
    "error = np.sqrt(mean_squared_error(y_test,y_pred))\n",
    "r2_error = r2_score(y_test,y_pred)\n",
    "print('The RMSE for the given model is:- ',error)\n",
    "print('The r2 error for the given model is:- ',r2_error)"
   ]
  },
  {
   "cell_type": "code",
   "execution_count": 24,
   "id": "d57525cf",
   "metadata": {},
   "outputs": [
    {
     "name": "stdout",
     "output_type": "stream",
     "text": [
      "The RMSE for the given model is:-  4.742415541545363\n",
      "The r2 error for the given model is:-  0.00013203662115734982\n"
     ]
    }
   ],
   "source": [
    "from sklearn.cross_decomposition import PLSRegression\n",
    "mod = PLSRegression(n_components=3)\n",
    "mod.fit(X_train,y_train)\n",
    "y_pred = mod.predict(X_test)\n",
    "error = np.sqrt(mean_squared_error(y_test,y_pred))\n",
    "r2_error = r2_score(y_test,y_pred)\n",
    "print('The RMSE for the given model is:- ',error)\n",
    "print('The r2 error for the given model is:- ',r2_error)"
   ]
  },
  {
   "cell_type": "code",
   "execution_count": 25,
   "id": "4a676da1",
   "metadata": {},
   "outputs": [],
   "source": [
    "# r_mod = LogisticRegression()\n",
    "# r_mod.fit(X_train,y_train)\n",
    "# y_pred = r_mod.predict(X_test)\n",
    "# error = np.sqrt(mean_squared_error(y_test,y_pred))\n",
    "# r2_error = r2_score(y_test,y_pred)\n",
    "# print('The RMSE for the given model is:- ',error)\n",
    "# print('The r2 error for the given model is:- ',r2_error)"
   ]
  },
  {
   "cell_type": "code",
   "execution_count": 26,
   "id": "1dcb8c79",
   "metadata": {},
   "outputs": [
    {
     "name": "stdout",
     "output_type": "stream",
     "text": [
      "Quantile 0.25 Regression Results:\n",
      "                         QuantReg Regression Results                          \n",
      "==============================================================================\n",
      "Dep. Variable:            fare_amount   Pseudo R-squared:             -0.02319\n",
      "Model:                       QuantReg   Bandwidth:                      0.3279\n",
      "Method:                 Least Squares   Sparsity:                        8.177\n",
      "Date:                Thu, 02 Nov 2023   No. Observations:               174490\n",
      "Time:                        02:21:32   Df Residuals:                   174485\n",
      "                                        Df Model:                            5\n",
      "=====================================================================================\n",
      "                        coef    std err          t      P>|t|      [0.025      0.975]\n",
      "-------------------------------------------------------------------------------------\n",
      "pickup_longitude     -0.1129      0.003    -44.337      0.000      -0.118      -0.108\n",
      "pickup_latitude      -0.1656      0.002    -82.308      0.000      -0.170      -0.162\n",
      "dropoff_longitude    -0.0506      0.003    -19.734      0.000      -0.056      -0.046\n",
      "dropoff_latitude      0.0161      0.005      3.414      0.001       0.007       0.025\n",
      "passenger_count       0.0977      0.007     14.602      0.000       0.085       0.111\n",
      "=====================================================================================\n",
      "\n",
      "\n",
      "Quantile 0.5 Regression Results:\n",
      "                         QuantReg Regression Results                          \n",
      "==============================================================================\n",
      "Dep. Variable:            fare_amount   Pseudo R-squared:             -0.03506\n",
      "Model:                       QuantReg   Bandwidth:                      0.3830\n",
      "Method:                 Least Squares   Sparsity:                        11.51\n",
      "Date:                Thu, 02 Nov 2023   No. Observations:               174490\n",
      "Time:                        02:21:32   Df Residuals:                   174485\n",
      "                                        Df Model:                            5\n",
      "=====================================================================================\n",
      "                        coef    std err          t      P>|t|      [0.025      0.975]\n",
      "-------------------------------------------------------------------------------------\n",
      "pickup_longitude     -0.0410      0.003    -13.707      0.000      -0.047      -0.035\n",
      "pickup_latitude      -0.0011      0.003     -0.315      0.753      -0.008       0.006\n",
      "dropoff_longitude    -0.1900      0.003    -67.044      0.000      -0.196      -0.184\n",
      "dropoff_latitude     -0.2126      0.006    -37.034      0.000      -0.224      -0.201\n",
      "passenger_count       0.1005      0.010     10.372      0.000       0.082       0.120\n",
      "=====================================================================================\n",
      "\n",
      "\n",
      "Quantile 0.75 Regression Results:\n",
      "                         QuantReg Regression Results                          \n",
      "==============================================================================\n",
      "Dep. Variable:            fare_amount   Pseudo R-squared:             -0.06057\n",
      "Model:                       QuantReg   Bandwidth:                      0.3341\n",
      "Method:                 Least Squares   Sparsity:                        21.46\n",
      "Date:                Thu, 02 Nov 2023   No. Observations:               174490\n",
      "Time:                        02:21:32   Df Residuals:                   174485\n",
      "                                        Df Model:                            5\n",
      "=====================================================================================\n",
      "                        coef    std err          t      P>|t|      [0.025      0.975]\n",
      "-------------------------------------------------------------------------------------\n",
      "pickup_longitude     -0.0552      0.005    -10.663      0.000      -0.065      -0.045\n",
      "pickup_latitude       0.0291      0.008      3.841      0.000       0.014       0.044\n",
      "dropoff_longitude    -0.2528      0.005    -51.878      0.000      -0.262      -0.243\n",
      "dropoff_latitude     -0.3094      0.012    -26.509      0.000      -0.332      -0.286\n",
      "passenger_count       0.3273      0.015     21.798      0.000       0.298       0.357\n",
      "=====================================================================================\n",
      "\n",
      "\n"
     ]
    }
   ],
   "source": [
    "import statsmodels.api as sm\n",
    "quantiles = [0.25, 0.5, 0.75]  # Define the quantiles you want to estimate\n",
    "results = []\n",
    "\n",
    "for quantile in quantiles:\n",
    "    model = sm.QuantReg(y, X)\n",
    "    result = model.fit(q=quantile)\n",
    "    results.append(result)\n",
    "    \n",
    "for i, quantile in enumerate(quantiles):\n",
    "    print(f\"Quantile {quantile} Regression Results:\")\n",
    "    print(results[i].summary())\n",
    "    print(\"\\n\")"
   ]
  },
  {
   "cell_type": "code",
   "execution_count": 27,
   "id": "4ebe8620",
   "metadata": {},
   "outputs": [
    {
     "name": "stderr",
     "output_type": "stream",
     "text": [
      "C:\\Users\\01abn\\anaconda3\\lib\\site-packages\\statsmodels\\genmod\\families\\links.py:516: RuntimeWarning: overflow encountered in exp\n",
      "  return np.exp(z)\n",
      "C:\\Users\\01abn\\anaconda3\\lib\\site-packages\\statsmodels\\genmod\\families\\family.py:426: RuntimeWarning: divide by zero encountered in true_divide\n",
      "  endog_mu = self._clean(endog / mu)\n",
      "C:\\Users\\01abn\\anaconda3\\lib\\site-packages\\statsmodels\\genmod\\families\\family.py:132: RuntimeWarning: invalid value encountered in multiply\n",
      "  return 1. / (self.link.deriv(mu)**2 * self.variance(mu))\n",
      "C:\\Users\\01abn\\anaconda3\\lib\\site-packages\\statsmodels\\genmod\\families\\family.py:132: RuntimeWarning: divide by zero encountered in true_divide\n",
      "  return 1. / (self.link.deriv(mu)**2 * self.variance(mu))\n",
      "C:\\Users\\01abn\\anaconda3\\lib\\site-packages\\statsmodels\\genmod\\generalized_linear_model.py:1211: RuntimeWarning: invalid value encountered in multiply\n",
      "  wlsendog = (lin_pred + self.family.link.deriv(mu) * (self.endog-mu)\n"
     ]
    },
    {
     "ename": "ValueError",
     "evalue": "NaN, inf or invalid value detected in weights, estimation infeasible.",
     "output_type": "error",
     "traceback": [
      "\u001b[1;31m---------------------------------------------------------------------------\u001b[0m",
      "\u001b[1;31mValueError\u001b[0m                                Traceback (most recent call last)",
      "Cell \u001b[1;32mIn[27], line 2\u001b[0m\n\u001b[0;32m      1\u001b[0m model \u001b[38;5;241m=\u001b[39m sm\u001b[38;5;241m.\u001b[39mGLM(y, X, family\u001b[38;5;241m=\u001b[39msm\u001b[38;5;241m.\u001b[39mfamilies\u001b[38;5;241m.\u001b[39mPoisson())\n\u001b[1;32m----> 2\u001b[0m result \u001b[38;5;241m=\u001b[39m \u001b[43mmodel\u001b[49m\u001b[38;5;241;43m.\u001b[39;49m\u001b[43mfit\u001b[49m\u001b[43m(\u001b[49m\u001b[43m)\u001b[49m\n\u001b[0;32m      3\u001b[0m \u001b[38;5;28mprint\u001b[39m(result\u001b[38;5;241m.\u001b[39msummary())\n",
      "File \u001b[1;32m~\\anaconda3\\lib\\site-packages\\statsmodels\\genmod\\generalized_linear_model.py:1075\u001b[0m, in \u001b[0;36mGLM.fit\u001b[1;34m(self, start_params, maxiter, method, tol, scale, cov_type, cov_kwds, use_t, full_output, disp, max_start_irls, **kwargs)\u001b[0m\n\u001b[0;32m   1073\u001b[0m     \u001b[38;5;28;01mif\u001b[39;00m cov_type\u001b[38;5;241m.\u001b[39mlower() \u001b[38;5;241m==\u001b[39m \u001b[38;5;124m'\u001b[39m\u001b[38;5;124meim\u001b[39m\u001b[38;5;124m'\u001b[39m:\n\u001b[0;32m   1074\u001b[0m         cov_type \u001b[38;5;241m=\u001b[39m \u001b[38;5;124m'\u001b[39m\u001b[38;5;124mnonrobust\u001b[39m\u001b[38;5;124m'\u001b[39m\n\u001b[1;32m-> 1075\u001b[0m     \u001b[38;5;28;01mreturn\u001b[39;00m \u001b[38;5;28mself\u001b[39m\u001b[38;5;241m.\u001b[39m_fit_irls(start_params\u001b[38;5;241m=\u001b[39mstart_params, maxiter\u001b[38;5;241m=\u001b[39mmaxiter,\n\u001b[0;32m   1076\u001b[0m                           tol\u001b[38;5;241m=\u001b[39mtol, scale\u001b[38;5;241m=\u001b[39mscale, cov_type\u001b[38;5;241m=\u001b[39mcov_type,\n\u001b[0;32m   1077\u001b[0m                           cov_kwds\u001b[38;5;241m=\u001b[39mcov_kwds, use_t\u001b[38;5;241m=\u001b[39muse_t, \u001b[38;5;241m*\u001b[39m\u001b[38;5;241m*\u001b[39mkwargs)\n\u001b[0;32m   1078\u001b[0m \u001b[38;5;28;01melse\u001b[39;00m:\n\u001b[0;32m   1079\u001b[0m     \u001b[38;5;28mself\u001b[39m\u001b[38;5;241m.\u001b[39m_optim_hessian \u001b[38;5;241m=\u001b[39m kwargs\u001b[38;5;241m.\u001b[39mget(\u001b[38;5;124m'\u001b[39m\u001b[38;5;124moptim_hessian\u001b[39m\u001b[38;5;124m'\u001b[39m)\n",
      "File \u001b[1;32m~\\anaconda3\\lib\\site-packages\\statsmodels\\genmod\\generalized_linear_model.py:1213\u001b[0m, in \u001b[0;36mGLM._fit_irls\u001b[1;34m(self, start_params, maxiter, tol, scale, cov_type, cov_kwds, use_t, **kwargs)\u001b[0m\n\u001b[0;32m   1209\u001b[0m \u001b[38;5;28mself\u001b[39m\u001b[38;5;241m.\u001b[39mweights \u001b[38;5;241m=\u001b[39m (\u001b[38;5;28mself\u001b[39m\u001b[38;5;241m.\u001b[39miweights \u001b[38;5;241m*\u001b[39m \u001b[38;5;28mself\u001b[39m\u001b[38;5;241m.\u001b[39mn_trials \u001b[38;5;241m*\u001b[39m\n\u001b[0;32m   1210\u001b[0m                 \u001b[38;5;28mself\u001b[39m\u001b[38;5;241m.\u001b[39mfamily\u001b[38;5;241m.\u001b[39mweights(mu))\n\u001b[0;32m   1211\u001b[0m wlsendog \u001b[38;5;241m=\u001b[39m (lin_pred \u001b[38;5;241m+\u001b[39m \u001b[38;5;28mself\u001b[39m\u001b[38;5;241m.\u001b[39mfamily\u001b[38;5;241m.\u001b[39mlink\u001b[38;5;241m.\u001b[39mderiv(mu) \u001b[38;5;241m*\u001b[39m (\u001b[38;5;28mself\u001b[39m\u001b[38;5;241m.\u001b[39mendog\u001b[38;5;241m-\u001b[39mmu)\n\u001b[0;32m   1212\u001b[0m             \u001b[38;5;241m-\u001b[39m \u001b[38;5;28mself\u001b[39m\u001b[38;5;241m.\u001b[39m_offset_exposure)\n\u001b[1;32m-> 1213\u001b[0m wls_mod \u001b[38;5;241m=\u001b[39m \u001b[43mreg_tools\u001b[49m\u001b[38;5;241;43m.\u001b[39;49m\u001b[43m_MinimalWLS\u001b[49m\u001b[43m(\u001b[49m\u001b[43mwlsendog\u001b[49m\u001b[43m,\u001b[49m\u001b[43m \u001b[49m\u001b[43mwlsexog\u001b[49m\u001b[43m,\u001b[49m\n\u001b[0;32m   1214\u001b[0m \u001b[43m                                \u001b[49m\u001b[38;5;28;43mself\u001b[39;49m\u001b[38;5;241;43m.\u001b[39;49m\u001b[43mweights\u001b[49m\u001b[43m,\u001b[49m\u001b[43m \u001b[49m\u001b[43mcheck_endog\u001b[49m\u001b[38;5;241;43m=\u001b[39;49m\u001b[38;5;28;43;01mTrue\u001b[39;49;00m\u001b[43m,\u001b[49m\n\u001b[0;32m   1215\u001b[0m \u001b[43m                                \u001b[49m\u001b[43mcheck_weights\u001b[49m\u001b[38;5;241;43m=\u001b[39;49m\u001b[38;5;28;43;01mTrue\u001b[39;49;00m\u001b[43m)\u001b[49m\n\u001b[0;32m   1216\u001b[0m wls_results \u001b[38;5;241m=\u001b[39m wls_mod\u001b[38;5;241m.\u001b[39mfit(method\u001b[38;5;241m=\u001b[39mwls_method)\n\u001b[0;32m   1217\u001b[0m lin_pred \u001b[38;5;241m=\u001b[39m np\u001b[38;5;241m.\u001b[39mdot(\u001b[38;5;28mself\u001b[39m\u001b[38;5;241m.\u001b[39mexog, wls_results\u001b[38;5;241m.\u001b[39mparams)\n",
      "File \u001b[1;32m~\\anaconda3\\lib\\site-packages\\statsmodels\\regression\\_tools.py:48\u001b[0m, in \u001b[0;36m_MinimalWLS.__init__\u001b[1;34m(self, endog, exog, weights, check_endog, check_weights)\u001b[0m\n\u001b[0;32m     46\u001b[0m \u001b[38;5;28;01mif\u001b[39;00m check_weights:\n\u001b[0;32m     47\u001b[0m     \u001b[38;5;28;01mif\u001b[39;00m \u001b[38;5;129;01mnot\u001b[39;00m np\u001b[38;5;241m.\u001b[39mall(np\u001b[38;5;241m.\u001b[39misfinite(w_half)):\n\u001b[1;32m---> 48\u001b[0m         \u001b[38;5;28;01mraise\u001b[39;00m \u001b[38;5;167;01mValueError\u001b[39;00m(\u001b[38;5;28mself\u001b[39m\u001b[38;5;241m.\u001b[39mmsg\u001b[38;5;241m.\u001b[39mformat(\u001b[38;5;124m'\u001b[39m\u001b[38;5;124mweights\u001b[39m\u001b[38;5;124m'\u001b[39m))\n\u001b[0;32m     50\u001b[0m \u001b[38;5;28;01mif\u001b[39;00m check_endog:\n\u001b[0;32m     51\u001b[0m     \u001b[38;5;28;01mif\u001b[39;00m \u001b[38;5;129;01mnot\u001b[39;00m np\u001b[38;5;241m.\u001b[39mall(np\u001b[38;5;241m.\u001b[39misfinite(endog)):\n",
      "\u001b[1;31mValueError\u001b[0m: NaN, inf or invalid value detected in weights, estimation infeasible."
     ]
    }
   ],
   "source": [
    "model = sm.GLM(y, X, family=sm.families.Poisson())\n",
    "result = model.fit()\n",
    "print(result.summary())\n"
   ]
  },
  {
   "cell_type": "code",
   "execution_count": 28,
   "id": "f84c6b13",
   "metadata": {},
   "outputs": [
    {
     "ename": "ModuleNotFoundError",
     "evalue": "No module named 'pymc3'",
     "output_type": "error",
     "traceback": [
      "\u001b[1;31m---------------------------------------------------------------------------\u001b[0m",
      "\u001b[1;31mModuleNotFoundError\u001b[0m                       Traceback (most recent call last)",
      "Cell \u001b[1;32mIn[28], line 1\u001b[0m\n\u001b[1;32m----> 1\u001b[0m \u001b[38;5;28;01mimport\u001b[39;00m \u001b[38;5;21;01mpymc3\u001b[39;00m \u001b[38;5;28;01mas\u001b[39;00m \u001b[38;5;21;01mpm\u001b[39;00m\n\u001b[0;32m      2\u001b[0m \u001b[38;5;28;01mwith\u001b[39;00m pm\u001b[38;5;241m.\u001b[39mModel() \u001b[38;5;28;01mas\u001b[39;00m model:\n\u001b[0;32m      3\u001b[0m     \u001b[38;5;66;03m# Define the priors for the model parameters\u001b[39;00m\n\u001b[0;32m      4\u001b[0m     alpha \u001b[38;5;241m=\u001b[39m pm\u001b[38;5;241m.\u001b[39mNormal(\u001b[38;5;124m'\u001b[39m\u001b[38;5;124malpha\u001b[39m\u001b[38;5;124m'\u001b[39m, mu\u001b[38;5;241m=\u001b[39m\u001b[38;5;241m0\u001b[39m, sd\u001b[38;5;241m=\u001b[39m\u001b[38;5;241m10\u001b[39m)\n",
      "\u001b[1;31mModuleNotFoundError\u001b[0m: No module named 'pymc3'"
     ]
    }
   ],
   "source": [
    "import pymc3 as pm\n",
    "with pm.Model() as model:\n",
    "    # Define the priors for the model parameters\n",
    "    alpha = pm.Normal('alpha', mu=0, sd=10)\n",
    "    beta = pm.Normal('beta', mu=0, sd=10)\n",
    "    sigma = pm.HalfNormal('sigma', sd=1)\n",
    "    \n",
    "    # Define the likelihood (i.e., the model)\n",
    "    y_est = alpha + beta * X\n",
    "    likelihood = pm.Normal('y', mu=y_est, sd=sigma, observed=y)\n",
    "with model:\n",
    "    trace = pm.sample(2000, tune=1000, cores=1, random_seed=0)  # Adjust the number of samples and burn-in as needed\n",
    "pm.traceplot(trace)\n",
    "plt.show()\n"
   ]
  },
  {
   "cell_type": "code",
   "execution_count": null,
   "id": "92efb460",
   "metadata": {},
   "outputs": [],
   "source": [
    "# pip install pymc3\n"
   ]
  },
  {
   "cell_type": "code",
   "execution_count": null,
   "id": "dea4fa2c",
   "metadata": {},
   "outputs": [],
   "source": []
  }
 ],
 "metadata": {
  "kernelspec": {
   "display_name": "Python 3 (ipykernel)",
   "language": "python",
   "name": "python3"
  },
  "language_info": {
   "codemirror_mode": {
    "name": "ipython",
    "version": 3
   },
   "file_extension": ".py",
   "mimetype": "text/x-python",
   "name": "python",
   "nbconvert_exporter": "python",
   "pygments_lexer": "ipython3",
   "version": "3.9.12"
  }
 },
 "nbformat": 4,
 "nbformat_minor": 5
}
